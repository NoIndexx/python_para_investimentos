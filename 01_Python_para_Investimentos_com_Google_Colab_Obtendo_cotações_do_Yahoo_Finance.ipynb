{
  "nbformat": 4,
  "nbformat_minor": 0,
  "metadata": {
    "colab": {
      "name": "01 - Python para Investimentos com Google Colab - Obtendo cotações do Yahoo Finance.ipynb",
      "provenance": [],
      "include_colab_link": true
    },
    "kernelspec": {
      "name": "python3",
      "display_name": "Python 3"
    }
  },
  "cells": [
    {
      "cell_type": "markdown",
      "metadata": {
        "id": "view-in-github",
        "colab_type": "text"
      },
      "source": [
        "<a href=\"https://colab.research.google.com/github/NoIndexx/python_para_investimentos/blob/master/01_Python_para_Investimentos_com_Google_Colab_Obtendo_cota%C3%A7%C3%B5es_do_Yahoo_Finance.ipynb\" target=\"_parent\"><img src=\"https://colab.research.google.com/assets/colab-badge.svg\" alt=\"Open In Colab\"/></a>"
      ]
    },
    {
      "cell_type": "markdown",
      "metadata": {
        "id": "KErD2cQKvetI"
      },
      "source": [
        "###Ricos pelo Acaso"
      ]
    },
    {
      "cell_type": "markdown",
      "metadata": {
        "id": "z0y4IcG8viwz"
      },
      "source": [
        "Link do vídeo: https://youtu.be/7GGrt3-rRH8"
      ]
    },
    {
      "cell_type": "markdown",
      "metadata": {
        "id": "_qqPx-qlVy_C"
      },
      "source": [
        "# Bibliotecas"
      ]
    },
    {
      "cell_type": "markdown",
      "metadata": {
        "id": "hVy0v568v9Qs"
      },
      "source": [
        ">Instalando o YFinance"
      ]
    },
    {
      "cell_type": "code",
      "metadata": {
        "id": "OMUMv7AkwCQG",
        "colab": {
          "base_uri": "https://localhost:8080/"
        },
        "outputId": "be0fc40e-2fbc-4dcf-a3ad-cdb7533fd2e5"
      },
      "source": [
        "!pip install yfinance --upgrade --no-cache-dir"
      ],
      "execution_count": 1,
      "outputs": [
        {
          "output_type": "stream",
          "name": "stdout",
          "text": [
            "Looking in indexes: https://pypi.org/simple, https://us-python.pkg.dev/colab-wheels/public/simple/\n",
            "Requirement already satisfied: yfinance in /usr/local/lib/python3.8/dist-packages (0.2.9)\n",
            "Requirement already satisfied: appdirs>=1.4.4 in /usr/local/lib/python3.8/dist-packages (from yfinance) (1.4.4)\n",
            "Requirement already satisfied: pytz>=2022.5 in /usr/local/lib/python3.8/dist-packages (from yfinance) (2022.7)\n",
            "Requirement already satisfied: numpy>=1.16.5 in /usr/local/lib/python3.8/dist-packages (from yfinance) (1.21.6)\n",
            "Requirement already satisfied: requests>=2.26 in /usr/local/lib/python3.8/dist-packages (from yfinance) (2.28.2)\n",
            "Requirement already satisfied: multitasking>=0.0.7 in /usr/local/lib/python3.8/dist-packages (from yfinance) (0.0.11)\n",
            "Requirement already satisfied: pandas>=1.3.0 in /usr/local/lib/python3.8/dist-packages (from yfinance) (1.3.5)\n",
            "Requirement already satisfied: frozendict>=2.3.4 in /usr/local/lib/python3.8/dist-packages (from yfinance) (2.3.4)\n",
            "Requirement already satisfied: beautifulsoup4>=4.11.1 in /usr/local/lib/python3.8/dist-packages (from yfinance) (4.11.1)\n",
            "Requirement already satisfied: lxml>=4.9.1 in /usr/local/lib/python3.8/dist-packages (from yfinance) (4.9.2)\n",
            "Requirement already satisfied: html5lib>=1.1 in /usr/local/lib/python3.8/dist-packages (from yfinance) (1.1)\n",
            "Requirement already satisfied: cryptography>=3.3.2 in /usr/local/lib/python3.8/dist-packages (from yfinance) (39.0.0)\n",
            "Requirement already satisfied: soupsieve>1.2 in /usr/local/lib/python3.8/dist-packages (from beautifulsoup4>=4.11.1->yfinance) (2.3.2.post1)\n",
            "Requirement already satisfied: cffi>=1.12 in /usr/local/lib/python3.8/dist-packages (from cryptography>=3.3.2->yfinance) (1.15.1)\n",
            "Requirement already satisfied: webencodings in /usr/local/lib/python3.8/dist-packages (from html5lib>=1.1->yfinance) (0.5.1)\n",
            "Requirement already satisfied: six>=1.9 in /usr/local/lib/python3.8/dist-packages (from html5lib>=1.1->yfinance) (1.15.0)\n",
            "Requirement already satisfied: python-dateutil>=2.7.3 in /usr/local/lib/python3.8/dist-packages (from pandas>=1.3.0->yfinance) (2.8.2)\n",
            "Requirement already satisfied: certifi>=2017.4.17 in /usr/local/lib/python3.8/dist-packages (from requests>=2.26->yfinance) (2022.12.7)\n",
            "Requirement already satisfied: urllib3<1.27,>=1.21.1 in /usr/local/lib/python3.8/dist-packages (from requests>=2.26->yfinance) (1.24.3)\n",
            "Requirement already satisfied: idna<4,>=2.5 in /usr/local/lib/python3.8/dist-packages (from requests>=2.26->yfinance) (2.10)\n",
            "Requirement already satisfied: charset-normalizer<4,>=2 in /usr/local/lib/python3.8/dist-packages (from requests>=2.26->yfinance) (2.1.1)\n",
            "Requirement already satisfied: pycparser in /usr/local/lib/python3.8/dist-packages (from cffi>=1.12->cryptography>=3.3.2->yfinance) (2.21)\n"
          ]
        }
      ]
    },
    {
      "cell_type": "markdown",
      "metadata": {
        "id": "7YjpHgu7wtrP"
      },
      "source": [
        ">Importando as Bibliotecas"
      ]
    },
    {
      "cell_type": "code",
      "metadata": {
        "id": "WCt0PyxrV3OW"
      },
      "source": [
        "import numpy as np\n",
        "import pandas as pd\n",
        "import matplotlib.pyplot as plt\n",
        "import pandas_datareader.data as web"
      ],
      "execution_count": 2,
      "outputs": []
    },
    {
      "cell_type": "markdown",
      "metadata": {
        "id": "JRvT3418wN-L"
      },
      "source": [
        ">Importando o YFinance e sobrescrevendo os métodos do `pandas_datareader`"
      ]
    },
    {
      "cell_type": "code",
      "metadata": {
        "id": "N0gRwzg9wSXd"
      },
      "source": [
        "import yfinance as yf\n",
        "yf.pdr_override()"
      ],
      "execution_count": 3,
      "outputs": []
    },
    {
      "cell_type": "markdown",
      "metadata": {
        "id": "aRFnZasnWnlN"
      },
      "source": [
        "# Obtendo os dados do mercado"
      ]
    },
    {
      "cell_type": "markdown",
      "metadata": {
        "id": "K8lMEDfRxGVT"
      },
      "source": [
        ">Baixando as cotações do Yahoo Finance para o Índice Bovespa"
      ]
    },
    {
      "cell_type": "code",
      "metadata": {
        "id": "SPsar0-4WrzM",
        "colab": {
          "base_uri": "https://localhost:8080/"
        },
        "outputId": "ba1d7b4b-dfed-49e5-d800-2a44d886feb3"
      },
      "source": [
        "ibov = web.get_data_yahoo('RADL3.SA, AZUL4.SA')"
      ],
      "execution_count": 14,
      "outputs": [
        {
          "output_type": "stream",
          "name": "stdout",
          "text": [
            "[*********************100%***********************]  2 of 2 completed\n"
          ]
        }
      ]
    },
    {
      "cell_type": "markdown",
      "metadata": {
        "id": "M9kJ5yjCxNYa"
      },
      "source": [
        ">Exibindo as cotações mais antigas"
      ]
    },
    {
      "cell_type": "code",
      "metadata": {
        "id": "u9t4ciXJW3B3",
        "colab": {
          "base_uri": "https://localhost:8080/",
          "height": 269
        },
        "outputId": "396b333c-0a02-436b-d6b5-5df14c4059a2"
      },
      "source": [
        "ibov.head()"
      ],
      "execution_count": 15,
      "outputs": [
        {
          "output_type": "execute_result",
          "data": {
            "text/plain": [
              "                          Adj Close              Close               High  \\\n",
              "                           AZUL4.SA  RADL3.SA AZUL4.SA  RADL3.SA AZUL4.SA   \n",
              "Date                                                                        \n",
              "2000-01-06 00:00:00-02:00       NaN  0.004817      NaN  0.005833      NaN   \n",
              "2000-01-07 00:00:00-02:00       NaN  0.004817      NaN  0.005833      NaN   \n",
              "2000-01-10 00:00:00-02:00       NaN  0.004817      NaN  0.005833      NaN   \n",
              "2000-01-11 00:00:00-02:00       NaN  0.004817      NaN  0.005833      NaN   \n",
              "2000-01-12 00:00:00-02:00       NaN  0.004817      NaN  0.005833      NaN   \n",
              "\n",
              "                                         Low               Open            \\\n",
              "                           RADL3.SA AZUL4.SA  RADL3.SA AZUL4.SA  RADL3.SA   \n",
              "Date                                                                        \n",
              "2000-01-06 00:00:00-02:00  0.009166      NaN  0.005833      NaN  0.009166   \n",
              "2000-01-07 00:00:00-02:00  0.005833      NaN  0.005833      NaN  0.005833   \n",
              "2000-01-10 00:00:00-02:00  0.009166      NaN  0.005833      NaN  0.009166   \n",
              "2000-01-11 00:00:00-02:00  0.009166      NaN  0.005833      NaN  0.009166   \n",
              "2000-01-12 00:00:00-02:00  0.009166      NaN  0.005833      NaN  0.009166   \n",
              "\n",
              "                            Volume           \n",
              "                          AZUL4.SA RADL3.SA  \n",
              "Date                                         \n",
              "2000-01-06 00:00:00-02:00      NaN        0  \n",
              "2000-01-07 00:00:00-02:00      NaN        0  \n",
              "2000-01-10 00:00:00-02:00      NaN        0  \n",
              "2000-01-11 00:00:00-02:00      NaN        0  \n",
              "2000-01-12 00:00:00-02:00      NaN        0  "
            ],
            "text/html": [
              "\n",
              "  <div id=\"df-5a365cef-a4e6-448a-b9ad-63a470867609\">\n",
              "    <div class=\"colab-df-container\">\n",
              "      <div>\n",
              "<style scoped>\n",
              "    .dataframe tbody tr th:only-of-type {\n",
              "        vertical-align: middle;\n",
              "    }\n",
              "\n",
              "    .dataframe tbody tr th {\n",
              "        vertical-align: top;\n",
              "    }\n",
              "\n",
              "    .dataframe thead tr th {\n",
              "        text-align: left;\n",
              "    }\n",
              "\n",
              "    .dataframe thead tr:last-of-type th {\n",
              "        text-align: right;\n",
              "    }\n",
              "</style>\n",
              "<table border=\"1\" class=\"dataframe\">\n",
              "  <thead>\n",
              "    <tr>\n",
              "      <th></th>\n",
              "      <th colspan=\"2\" halign=\"left\">Adj Close</th>\n",
              "      <th colspan=\"2\" halign=\"left\">Close</th>\n",
              "      <th colspan=\"2\" halign=\"left\">High</th>\n",
              "      <th colspan=\"2\" halign=\"left\">Low</th>\n",
              "      <th colspan=\"2\" halign=\"left\">Open</th>\n",
              "      <th colspan=\"2\" halign=\"left\">Volume</th>\n",
              "    </tr>\n",
              "    <tr>\n",
              "      <th></th>\n",
              "      <th>AZUL4.SA</th>\n",
              "      <th>RADL3.SA</th>\n",
              "      <th>AZUL4.SA</th>\n",
              "      <th>RADL3.SA</th>\n",
              "      <th>AZUL4.SA</th>\n",
              "      <th>RADL3.SA</th>\n",
              "      <th>AZUL4.SA</th>\n",
              "      <th>RADL3.SA</th>\n",
              "      <th>AZUL4.SA</th>\n",
              "      <th>RADL3.SA</th>\n",
              "      <th>AZUL4.SA</th>\n",
              "      <th>RADL3.SA</th>\n",
              "    </tr>\n",
              "    <tr>\n",
              "      <th>Date</th>\n",
              "      <th></th>\n",
              "      <th></th>\n",
              "      <th></th>\n",
              "      <th></th>\n",
              "      <th></th>\n",
              "      <th></th>\n",
              "      <th></th>\n",
              "      <th></th>\n",
              "      <th></th>\n",
              "      <th></th>\n",
              "      <th></th>\n",
              "      <th></th>\n",
              "    </tr>\n",
              "  </thead>\n",
              "  <tbody>\n",
              "    <tr>\n",
              "      <th>2000-01-06 00:00:00-02:00</th>\n",
              "      <td>NaN</td>\n",
              "      <td>0.004817</td>\n",
              "      <td>NaN</td>\n",
              "      <td>0.005833</td>\n",
              "      <td>NaN</td>\n",
              "      <td>0.009166</td>\n",
              "      <td>NaN</td>\n",
              "      <td>0.005833</td>\n",
              "      <td>NaN</td>\n",
              "      <td>0.009166</td>\n",
              "      <td>NaN</td>\n",
              "      <td>0</td>\n",
              "    </tr>\n",
              "    <tr>\n",
              "      <th>2000-01-07 00:00:00-02:00</th>\n",
              "      <td>NaN</td>\n",
              "      <td>0.004817</td>\n",
              "      <td>NaN</td>\n",
              "      <td>0.005833</td>\n",
              "      <td>NaN</td>\n",
              "      <td>0.005833</td>\n",
              "      <td>NaN</td>\n",
              "      <td>0.005833</td>\n",
              "      <td>NaN</td>\n",
              "      <td>0.005833</td>\n",
              "      <td>NaN</td>\n",
              "      <td>0</td>\n",
              "    </tr>\n",
              "    <tr>\n",
              "      <th>2000-01-10 00:00:00-02:00</th>\n",
              "      <td>NaN</td>\n",
              "      <td>0.004817</td>\n",
              "      <td>NaN</td>\n",
              "      <td>0.005833</td>\n",
              "      <td>NaN</td>\n",
              "      <td>0.009166</td>\n",
              "      <td>NaN</td>\n",
              "      <td>0.005833</td>\n",
              "      <td>NaN</td>\n",
              "      <td>0.009166</td>\n",
              "      <td>NaN</td>\n",
              "      <td>0</td>\n",
              "    </tr>\n",
              "    <tr>\n",
              "      <th>2000-01-11 00:00:00-02:00</th>\n",
              "      <td>NaN</td>\n",
              "      <td>0.004817</td>\n",
              "      <td>NaN</td>\n",
              "      <td>0.005833</td>\n",
              "      <td>NaN</td>\n",
              "      <td>0.009166</td>\n",
              "      <td>NaN</td>\n",
              "      <td>0.005833</td>\n",
              "      <td>NaN</td>\n",
              "      <td>0.009166</td>\n",
              "      <td>NaN</td>\n",
              "      <td>0</td>\n",
              "    </tr>\n",
              "    <tr>\n",
              "      <th>2000-01-12 00:00:00-02:00</th>\n",
              "      <td>NaN</td>\n",
              "      <td>0.004817</td>\n",
              "      <td>NaN</td>\n",
              "      <td>0.005833</td>\n",
              "      <td>NaN</td>\n",
              "      <td>0.009166</td>\n",
              "      <td>NaN</td>\n",
              "      <td>0.005833</td>\n",
              "      <td>NaN</td>\n",
              "      <td>0.009166</td>\n",
              "      <td>NaN</td>\n",
              "      <td>0</td>\n",
              "    </tr>\n",
              "  </tbody>\n",
              "</table>\n",
              "</div>\n",
              "      <button class=\"colab-df-convert\" onclick=\"convertToInteractive('df-5a365cef-a4e6-448a-b9ad-63a470867609')\"\n",
              "              title=\"Convert this dataframe to an interactive table.\"\n",
              "              style=\"display:none;\">\n",
              "        \n",
              "  <svg xmlns=\"http://www.w3.org/2000/svg\" height=\"24px\"viewBox=\"0 0 24 24\"\n",
              "       width=\"24px\">\n",
              "    <path d=\"M0 0h24v24H0V0z\" fill=\"none\"/>\n",
              "    <path d=\"M18.56 5.44l.94 2.06.94-2.06 2.06-.94-2.06-.94-.94-2.06-.94 2.06-2.06.94zm-11 1L8.5 8.5l.94-2.06 2.06-.94-2.06-.94L8.5 2.5l-.94 2.06-2.06.94zm10 10l.94 2.06.94-2.06 2.06-.94-2.06-.94-.94-2.06-.94 2.06-2.06.94z\"/><path d=\"M17.41 7.96l-1.37-1.37c-.4-.4-.92-.59-1.43-.59-.52 0-1.04.2-1.43.59L10.3 9.45l-7.72 7.72c-.78.78-.78 2.05 0 2.83L4 21.41c.39.39.9.59 1.41.59.51 0 1.02-.2 1.41-.59l7.78-7.78 2.81-2.81c.8-.78.8-2.07 0-2.86zM5.41 20L4 18.59l7.72-7.72 1.47 1.35L5.41 20z\"/>\n",
              "  </svg>\n",
              "      </button>\n",
              "      \n",
              "  <style>\n",
              "    .colab-df-container {\n",
              "      display:flex;\n",
              "      flex-wrap:wrap;\n",
              "      gap: 12px;\n",
              "    }\n",
              "\n",
              "    .colab-df-convert {\n",
              "      background-color: #E8F0FE;\n",
              "      border: none;\n",
              "      border-radius: 50%;\n",
              "      cursor: pointer;\n",
              "      display: none;\n",
              "      fill: #1967D2;\n",
              "      height: 32px;\n",
              "      padding: 0 0 0 0;\n",
              "      width: 32px;\n",
              "    }\n",
              "\n",
              "    .colab-df-convert:hover {\n",
              "      background-color: #E2EBFA;\n",
              "      box-shadow: 0px 1px 2px rgba(60, 64, 67, 0.3), 0px 1px 3px 1px rgba(60, 64, 67, 0.15);\n",
              "      fill: #174EA6;\n",
              "    }\n",
              "\n",
              "    [theme=dark] .colab-df-convert {\n",
              "      background-color: #3B4455;\n",
              "      fill: #D2E3FC;\n",
              "    }\n",
              "\n",
              "    [theme=dark] .colab-df-convert:hover {\n",
              "      background-color: #434B5C;\n",
              "      box-shadow: 0px 1px 3px 1px rgba(0, 0, 0, 0.15);\n",
              "      filter: drop-shadow(0px 1px 2px rgba(0, 0, 0, 0.3));\n",
              "      fill: #FFFFFF;\n",
              "    }\n",
              "  </style>\n",
              "\n",
              "      <script>\n",
              "        const buttonEl =\n",
              "          document.querySelector('#df-5a365cef-a4e6-448a-b9ad-63a470867609 button.colab-df-convert');\n",
              "        buttonEl.style.display =\n",
              "          google.colab.kernel.accessAllowed ? 'block' : 'none';\n",
              "\n",
              "        async function convertToInteractive(key) {\n",
              "          const element = document.querySelector('#df-5a365cef-a4e6-448a-b9ad-63a470867609');\n",
              "          const dataTable =\n",
              "            await google.colab.kernel.invokeFunction('convertToInteractive',\n",
              "                                                     [key], {});\n",
              "          if (!dataTable) return;\n",
              "\n",
              "          const docLinkHtml = 'Like what you see? Visit the ' +\n",
              "            '<a target=\"_blank\" href=https://colab.research.google.com/notebooks/data_table.ipynb>data table notebook</a>'\n",
              "            + ' to learn more about interactive tables.';\n",
              "          element.innerHTML = '';\n",
              "          dataTable['output_type'] = 'display_data';\n",
              "          await google.colab.output.renderOutput(dataTable, element);\n",
              "          const docLink = document.createElement('div');\n",
              "          docLink.innerHTML = docLinkHtml;\n",
              "          element.appendChild(docLink);\n",
              "        }\n",
              "      </script>\n",
              "    </div>\n",
              "  </div>\n",
              "  "
            ]
          },
          "metadata": {},
          "execution_count": 15
        }
      ]
    },
    {
      "cell_type": "markdown",
      "metadata": {
        "id": "PppnUgeNxTqm"
      },
      "source": [
        ">Exibindo as cotações mais recentes"
      ]
    },
    {
      "cell_type": "code",
      "metadata": {
        "id": "jmBNADPpW6sg",
        "colab": {
          "base_uri": "https://localhost:8080/",
          "height": 269
        },
        "outputId": "f3477445-4c00-460d-c67d-b0935c3ff62e"
      },
      "source": [
        "ibov.tail()"
      ],
      "execution_count": 16,
      "outputs": [
        {
          "output_type": "execute_result",
          "data": {
            "text/plain": [
              "                          Adj Close               Close                High  \\\n",
              "                           AZUL4.SA   RADL3.SA AZUL4.SA   RADL3.SA AZUL4.SA   \n",
              "Date                                                                          \n",
              "2023-01-23 00:00:00-03:00     11.38  24.270000    11.38  24.270000    11.81   \n",
              "2023-01-24 00:00:00-03:00     11.74  24.709999    11.74  24.709999    11.74   \n",
              "2023-01-25 00:00:00-03:00     11.99  24.910000    11.99  24.910000    12.13   \n",
              "2023-01-26 00:00:00-03:00     12.04  24.969999    12.04  24.969999    12.30   \n",
              "2023-01-27 00:00:00-03:00     11.76  25.150000    11.76  25.150000    12.08   \n",
              "\n",
              "                                          Low                Open             \\\n",
              "                            RADL3.SA AZUL4.SA   RADL3.SA AZUL4.SA   RADL3.SA   \n",
              "Date                                                                           \n",
              "2023-01-23 00:00:00-03:00  24.450001    11.25  23.990000    11.31  24.200001   \n",
              "2023-01-24 00:00:00-03:00  24.809999    11.28  24.219999    11.41  24.320000   \n",
              "2023-01-25 00:00:00-03:00  25.150000    11.42  24.540001    11.72  24.750000   \n",
              "2023-01-26 00:00:00-03:00  25.080000    11.91  24.820000    12.05  24.990000   \n",
              "2023-01-27 00:00:00-03:00  25.150000    11.63  24.830000    12.04  24.940001   \n",
              "\n",
              "                              Volume            \n",
              "                            AZUL4.SA  RADL3.SA  \n",
              "Date                                            \n",
              "2023-01-23 00:00:00-03:00  8226900.0  11632900  \n",
              "2023-01-24 00:00:00-03:00  7915900.0   6596800  \n",
              "2023-01-25 00:00:00-03:00  8661100.0   4835600  \n",
              "2023-01-26 00:00:00-03:00  8453900.0   5069900  \n",
              "2023-01-27 00:00:00-03:00  6847300.0   3790400  "
            ],
            "text/html": [
              "\n",
              "  <div id=\"df-d8eff0af-e08e-4331-a43c-e09e53a78904\">\n",
              "    <div class=\"colab-df-container\">\n",
              "      <div>\n",
              "<style scoped>\n",
              "    .dataframe tbody tr th:only-of-type {\n",
              "        vertical-align: middle;\n",
              "    }\n",
              "\n",
              "    .dataframe tbody tr th {\n",
              "        vertical-align: top;\n",
              "    }\n",
              "\n",
              "    .dataframe thead tr th {\n",
              "        text-align: left;\n",
              "    }\n",
              "\n",
              "    .dataframe thead tr:last-of-type th {\n",
              "        text-align: right;\n",
              "    }\n",
              "</style>\n",
              "<table border=\"1\" class=\"dataframe\">\n",
              "  <thead>\n",
              "    <tr>\n",
              "      <th></th>\n",
              "      <th colspan=\"2\" halign=\"left\">Adj Close</th>\n",
              "      <th colspan=\"2\" halign=\"left\">Close</th>\n",
              "      <th colspan=\"2\" halign=\"left\">High</th>\n",
              "      <th colspan=\"2\" halign=\"left\">Low</th>\n",
              "      <th colspan=\"2\" halign=\"left\">Open</th>\n",
              "      <th colspan=\"2\" halign=\"left\">Volume</th>\n",
              "    </tr>\n",
              "    <tr>\n",
              "      <th></th>\n",
              "      <th>AZUL4.SA</th>\n",
              "      <th>RADL3.SA</th>\n",
              "      <th>AZUL4.SA</th>\n",
              "      <th>RADL3.SA</th>\n",
              "      <th>AZUL4.SA</th>\n",
              "      <th>RADL3.SA</th>\n",
              "      <th>AZUL4.SA</th>\n",
              "      <th>RADL3.SA</th>\n",
              "      <th>AZUL4.SA</th>\n",
              "      <th>RADL3.SA</th>\n",
              "      <th>AZUL4.SA</th>\n",
              "      <th>RADL3.SA</th>\n",
              "    </tr>\n",
              "    <tr>\n",
              "      <th>Date</th>\n",
              "      <th></th>\n",
              "      <th></th>\n",
              "      <th></th>\n",
              "      <th></th>\n",
              "      <th></th>\n",
              "      <th></th>\n",
              "      <th></th>\n",
              "      <th></th>\n",
              "      <th></th>\n",
              "      <th></th>\n",
              "      <th></th>\n",
              "      <th></th>\n",
              "    </tr>\n",
              "  </thead>\n",
              "  <tbody>\n",
              "    <tr>\n",
              "      <th>2023-01-23 00:00:00-03:00</th>\n",
              "      <td>11.38</td>\n",
              "      <td>24.270000</td>\n",
              "      <td>11.38</td>\n",
              "      <td>24.270000</td>\n",
              "      <td>11.81</td>\n",
              "      <td>24.450001</td>\n",
              "      <td>11.25</td>\n",
              "      <td>23.990000</td>\n",
              "      <td>11.31</td>\n",
              "      <td>24.200001</td>\n",
              "      <td>8226900.0</td>\n",
              "      <td>11632900</td>\n",
              "    </tr>\n",
              "    <tr>\n",
              "      <th>2023-01-24 00:00:00-03:00</th>\n",
              "      <td>11.74</td>\n",
              "      <td>24.709999</td>\n",
              "      <td>11.74</td>\n",
              "      <td>24.709999</td>\n",
              "      <td>11.74</td>\n",
              "      <td>24.809999</td>\n",
              "      <td>11.28</td>\n",
              "      <td>24.219999</td>\n",
              "      <td>11.41</td>\n",
              "      <td>24.320000</td>\n",
              "      <td>7915900.0</td>\n",
              "      <td>6596800</td>\n",
              "    </tr>\n",
              "    <tr>\n",
              "      <th>2023-01-25 00:00:00-03:00</th>\n",
              "      <td>11.99</td>\n",
              "      <td>24.910000</td>\n",
              "      <td>11.99</td>\n",
              "      <td>24.910000</td>\n",
              "      <td>12.13</td>\n",
              "      <td>25.150000</td>\n",
              "      <td>11.42</td>\n",
              "      <td>24.540001</td>\n",
              "      <td>11.72</td>\n",
              "      <td>24.750000</td>\n",
              "      <td>8661100.0</td>\n",
              "      <td>4835600</td>\n",
              "    </tr>\n",
              "    <tr>\n",
              "      <th>2023-01-26 00:00:00-03:00</th>\n",
              "      <td>12.04</td>\n",
              "      <td>24.969999</td>\n",
              "      <td>12.04</td>\n",
              "      <td>24.969999</td>\n",
              "      <td>12.30</td>\n",
              "      <td>25.080000</td>\n",
              "      <td>11.91</td>\n",
              "      <td>24.820000</td>\n",
              "      <td>12.05</td>\n",
              "      <td>24.990000</td>\n",
              "      <td>8453900.0</td>\n",
              "      <td>5069900</td>\n",
              "    </tr>\n",
              "    <tr>\n",
              "      <th>2023-01-27 00:00:00-03:00</th>\n",
              "      <td>11.76</td>\n",
              "      <td>25.150000</td>\n",
              "      <td>11.76</td>\n",
              "      <td>25.150000</td>\n",
              "      <td>12.08</td>\n",
              "      <td>25.150000</td>\n",
              "      <td>11.63</td>\n",
              "      <td>24.830000</td>\n",
              "      <td>12.04</td>\n",
              "      <td>24.940001</td>\n",
              "      <td>6847300.0</td>\n",
              "      <td>3790400</td>\n",
              "    </tr>\n",
              "  </tbody>\n",
              "</table>\n",
              "</div>\n",
              "      <button class=\"colab-df-convert\" onclick=\"convertToInteractive('df-d8eff0af-e08e-4331-a43c-e09e53a78904')\"\n",
              "              title=\"Convert this dataframe to an interactive table.\"\n",
              "              style=\"display:none;\">\n",
              "        \n",
              "  <svg xmlns=\"http://www.w3.org/2000/svg\" height=\"24px\"viewBox=\"0 0 24 24\"\n",
              "       width=\"24px\">\n",
              "    <path d=\"M0 0h24v24H0V0z\" fill=\"none\"/>\n",
              "    <path d=\"M18.56 5.44l.94 2.06.94-2.06 2.06-.94-2.06-.94-.94-2.06-.94 2.06-2.06.94zm-11 1L8.5 8.5l.94-2.06 2.06-.94-2.06-.94L8.5 2.5l-.94 2.06-2.06.94zm10 10l.94 2.06.94-2.06 2.06-.94-2.06-.94-.94-2.06-.94 2.06-2.06.94z\"/><path d=\"M17.41 7.96l-1.37-1.37c-.4-.4-.92-.59-1.43-.59-.52 0-1.04.2-1.43.59L10.3 9.45l-7.72 7.72c-.78.78-.78 2.05 0 2.83L4 21.41c.39.39.9.59 1.41.59.51 0 1.02-.2 1.41-.59l7.78-7.78 2.81-2.81c.8-.78.8-2.07 0-2.86zM5.41 20L4 18.59l7.72-7.72 1.47 1.35L5.41 20z\"/>\n",
              "  </svg>\n",
              "      </button>\n",
              "      \n",
              "  <style>\n",
              "    .colab-df-container {\n",
              "      display:flex;\n",
              "      flex-wrap:wrap;\n",
              "      gap: 12px;\n",
              "    }\n",
              "\n",
              "    .colab-df-convert {\n",
              "      background-color: #E8F0FE;\n",
              "      border: none;\n",
              "      border-radius: 50%;\n",
              "      cursor: pointer;\n",
              "      display: none;\n",
              "      fill: #1967D2;\n",
              "      height: 32px;\n",
              "      padding: 0 0 0 0;\n",
              "      width: 32px;\n",
              "    }\n",
              "\n",
              "    .colab-df-convert:hover {\n",
              "      background-color: #E2EBFA;\n",
              "      box-shadow: 0px 1px 2px rgba(60, 64, 67, 0.3), 0px 1px 3px 1px rgba(60, 64, 67, 0.15);\n",
              "      fill: #174EA6;\n",
              "    }\n",
              "\n",
              "    [theme=dark] .colab-df-convert {\n",
              "      background-color: #3B4455;\n",
              "      fill: #D2E3FC;\n",
              "    }\n",
              "\n",
              "    [theme=dark] .colab-df-convert:hover {\n",
              "      background-color: #434B5C;\n",
              "      box-shadow: 0px 1px 3px 1px rgba(0, 0, 0, 0.15);\n",
              "      filter: drop-shadow(0px 1px 2px rgba(0, 0, 0, 0.3));\n",
              "      fill: #FFFFFF;\n",
              "    }\n",
              "  </style>\n",
              "\n",
              "      <script>\n",
              "        const buttonEl =\n",
              "          document.querySelector('#df-d8eff0af-e08e-4331-a43c-e09e53a78904 button.colab-df-convert');\n",
              "        buttonEl.style.display =\n",
              "          google.colab.kernel.accessAllowed ? 'block' : 'none';\n",
              "\n",
              "        async function convertToInteractive(key) {\n",
              "          const element = document.querySelector('#df-d8eff0af-e08e-4331-a43c-e09e53a78904');\n",
              "          const dataTable =\n",
              "            await google.colab.kernel.invokeFunction('convertToInteractive',\n",
              "                                                     [key], {});\n",
              "          if (!dataTable) return;\n",
              "\n",
              "          const docLinkHtml = 'Like what you see? Visit the ' +\n",
              "            '<a target=\"_blank\" href=https://colab.research.google.com/notebooks/data_table.ipynb>data table notebook</a>'\n",
              "            + ' to learn more about interactive tables.';\n",
              "          element.innerHTML = '';\n",
              "          dataTable['output_type'] = 'display_data';\n",
              "          await google.colab.output.renderOutput(dataTable, element);\n",
              "          const docLink = document.createElement('div');\n",
              "          docLink.innerHTML = docLinkHtml;\n",
              "          element.appendChild(docLink);\n",
              "        }\n",
              "      </script>\n",
              "    </div>\n",
              "  </div>\n",
              "  "
            ]
          },
          "metadata": {},
          "execution_count": 16
        }
      ]
    },
    {
      "cell_type": "markdown",
      "metadata": {
        "id": "vH7fomPCxhZM"
      },
      "source": [
        ">Plotando o gráfico com o preços de fechamento do Índice Bovespa"
      ]
    },
    {
      "cell_type": "code",
      "metadata": {
        "id": "9YmTPzYVXAH4",
        "colab": {
          "base_uri": "https://localhost:8080/",
          "height": 465
        },
        "outputId": "b24612ab-bf4a-4fa5-85d1-ab9b72c625d7"
      },
      "source": [
        "ibov[\"Close\"].plot(figsize=(22,8));"
      ],
      "execution_count": 17,
      "outputs": [
        {
          "output_type": "display_data",
          "data": {
            "text/plain": [
              "<Figure size 1584x576 with 1 Axes>"
            ],
            "image/png": "[encoded data removed]"
          },
          "metadata": {
            "needs_background": "light"
          }
        }
      ]
    }
  ]
}